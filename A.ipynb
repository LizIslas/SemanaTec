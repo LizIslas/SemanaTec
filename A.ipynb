{
 "cells": [
  {
   "cell_type": "code",
   "execution_count": 1,
   "metadata": {},
   "outputs": [],
   "source": [
    "import pandas as pd\n"
   ]
  },
  {
   "cell_type": "code",
   "execution_count": 4,
   "metadata": {},
   "outputs": [],
   "source": [
    "data = {\n",
    "    \"Edad\" : [23, 25, 26, 24, 30, 24, 22, 28, 27, 24],\n",
    "    \"Salario\" : [48, 52, 58, 49, 60, 48, 50, 62, 59, 54]\n",
    "}"
   ]
  },
  {
   "cell_type": "code",
   "execution_count": 5,
   "metadata": {},
   "outputs": [],
   "source": [
    "#Medidas de tendencia central\n",
    "#Media\n",
    "\n",
    "df= pd.DataFrame(data)\n",
    "\n"
   ]
  },
  {
   "cell_type": "code",
   "execution_count": 7,
   "metadata": {},
   "outputs": [],
   "source": [
    "media_edad = df['Edad']. mean()\n",
    "media_salario = df['Salario'].mean()"
   ]
  },
  {
   "cell_type": "code",
   "execution_count": 20,
   "metadata": {},
   "outputs": [
    {
     "data": {
      "text/html": [
       "<div>\n",
       "<style scoped>\n",
       "    .dataframe tbody tr th:only-of-type {\n",
       "        vertical-align: middle;\n",
       "    }\n",
       "\n",
       "    .dataframe tbody tr th {\n",
       "        vertical-align: top;\n",
       "    }\n",
       "\n",
       "    .dataframe thead th {\n",
       "        text-align: right;\n",
       "    }\n",
       "</style>\n",
       "<table border=\"1\" class=\"dataframe\">\n",
       "  <thead>\n",
       "    <tr style=\"text-align: right;\">\n",
       "      <th></th>\n",
       "      <th>Edad</th>\n",
       "      <th>Salario</th>\n",
       "    </tr>\n",
       "  </thead>\n",
       "  <tbody>\n",
       "    <tr>\n",
       "      <th>count</th>\n",
       "      <td>10.000000</td>\n",
       "      <td>10.000000</td>\n",
       "    </tr>\n",
       "    <tr>\n",
       "      <th>mean</th>\n",
       "      <td>25.300000</td>\n",
       "      <td>54.000000</td>\n",
       "    </tr>\n",
       "    <tr>\n",
       "      <th>std</th>\n",
       "      <td>2.451757</td>\n",
       "      <td>5.354126</td>\n",
       "    </tr>\n",
       "    <tr>\n",
       "      <th>min</th>\n",
       "      <td>22.000000</td>\n",
       "      <td>48.000000</td>\n",
       "    </tr>\n",
       "    <tr>\n",
       "      <th>25%</th>\n",
       "      <td>24.000000</td>\n",
       "      <td>49.250000</td>\n",
       "    </tr>\n",
       "    <tr>\n",
       "      <th>50%</th>\n",
       "      <td>24.500000</td>\n",
       "      <td>53.000000</td>\n",
       "    </tr>\n",
       "    <tr>\n",
       "      <th>75%</th>\n",
       "      <td>26.750000</td>\n",
       "      <td>58.750000</td>\n",
       "    </tr>\n",
       "    <tr>\n",
       "      <th>max</th>\n",
       "      <td>30.000000</td>\n",
       "      <td>62.000000</td>\n",
       "    </tr>\n",
       "  </tbody>\n",
       "</table>\n",
       "</div>"
      ],
      "text/plain": [
       "            Edad    Salario\n",
       "count  10.000000  10.000000\n",
       "mean   25.300000  54.000000\n",
       "std     2.451757   5.354126\n",
       "min    22.000000  48.000000\n",
       "25%    24.000000  49.250000\n",
       "50%    24.500000  53.000000\n",
       "75%    26.750000  58.750000\n",
       "max    30.000000  62.000000"
      ]
     },
     "execution_count": 20,
     "metadata": {},
     "output_type": "execute_result"
    }
   ],
   "source": [
    "df.describe()"
   ]
  },
  {
   "cell_type": "code",
   "execution_count": 8,
   "metadata": {},
   "outputs": [],
   "source": [
    "mediana_edad = df['Edad'].median()\n",
    "mediana_salario = df['Salario'].median()"
   ]
  },
  {
   "cell_type": "code",
   "execution_count": 10,
   "metadata": {},
   "outputs": [],
   "source": [
    "\n",
    "moda_edad = df['Edad'].mode()[0]\n",
    "moda_salario = df['Salario'].mode()[0]"
   ]
  },
  {
   "cell_type": "code",
   "execution_count": 11,
   "metadata": {},
   "outputs": [],
   "source": [
    "#dispersión\n",
    "\n",
    "rango_edad = df['Edad'].max() - df['Edad'].min()\n",
    "rango_salario = df ['Salario'].max() - df['Salario'].min()"
   ]
  },
  {
   "cell_type": "code",
   "execution_count": 12,
   "metadata": {},
   "outputs": [],
   "source": [
    "varianza_edad = df['Edad'].var()\n",
    "varianza_salario = df['Salario'].var()"
   ]
  },
  {
   "cell_type": "code",
   "execution_count": 13,
   "metadata": {},
   "outputs": [],
   "source": [
    "desviacion_edad = df['Edad'].std()\n",
    "desviacion_salario = df['Salario'].std()"
   ]
  },
  {
   "cell_type": "code",
   "execution_count": 14,
   "metadata": {},
   "outputs": [],
   "source": [
    "#Medidas de posición\n",
    "#Calcular los percentiles\n",
    "percentil_25_edad = df['Edad'].quantile(0.25)\n",
    "percentil_50_edad = df['Edad'].quantile(0.50)\n",
    "percentil_75_edad = df['Edad'].quantile(0.75)\n",
    "\n",
    "percentil_25_salario = df['Salario'].quantile(0.25)\n",
    "percentil_50_salario = df['Salario'].quantile(0.50)\n",
    "percentil_75_salario = df['Salario'].quantile(0.75)\n",
    "\n",
    "#Los cuartiles son simplemente los percentiles 25,50 y 75\n",
    "cuartil_1_edad = percentil_25_edad\n",
    "cuartil_2_edad = percentil_50_edad\n",
    "cuartil_3_edad = percentil_75_edad\n",
    "\n",
    "cuartil_1_salario = percentil_25_salario\n",
    "cuartil_2_salario = percentil_50_salario\n",
    "cuartil_3_salario = percentil_75_salario"
   ]
  },
  {
   "cell_type": "code",
   "execution_count": 15,
   "metadata": {},
   "outputs": [],
   "source": [
    "#calcular los deciles\n",
    "\n",
    "deciles_edad = df['Edad'].quantile ([i/10 for i in range (1,10)])\n",
    "deciles_salario = df['Salario'].quantile ([i/10 for i in range (1,10)])"
   ]
  },
  {
   "cell_type": "code",
   "execution_count": 17,
   "metadata": {},
   "outputs": [
    {
     "name": "stdout",
     "output_type": "stream",
     "text": [
      "Medidas de tendencia central\n",
      "Media- edad: 25.3 Salario: 54.0\n",
      "Mediana - Edad: 24.5 , Salario: 53.0\n",
      "Moda - Edad: 24 , Salario: 48\n",
      "\n",
      "Medidas de Dispersión\n",
      "Rango - Edad: 8 , Salario: 14\n",
      "Varinza - Edad: 6.011111111111111 , Salario: 28.666666666666668\n",
      "Desviación Estándar - Edad: 2.4517567397911058 , Salario: 5.354126134736337\n",
      "\n",
      "Medidas de Posición\n",
      "Percentiles - Edad: 25% 24.0 50%, 24.5 75%, 26.75\n",
      "Percentiles - Salario: 25% 49.25 50% 53.0 75% 58.75\n",
      "\n",
      "Cuartiles - Edad: Q1 24.0 Q2 24.5 Q3 26.75\n",
      "Cuartiles - Salario: Q1 49.25 Q2 53.0 Q3 58.75\n",
      "Deciles - Edad: 0.1    22.9\n",
      "0.2    23.8\n",
      "0.3    24.0\n",
      "0.4    24.0\n",
      "0.5    24.5\n",
      "0.6    25.4\n",
      "0.7    26.3\n",
      "0.8    27.2\n",
      "0.9    28.2\n",
      "Name: Edad, dtype: float64\n",
      "Deciles - Salario: 0.1    48.0\n",
      "0.2    48.8\n",
      "0.3    49.7\n",
      "0.4    51.2\n",
      "0.5    53.0\n",
      "0.6    55.6\n",
      "0.7    58.3\n",
      "0.8    59.2\n",
      "0.9    60.2\n",
      "Name: Salario, dtype: float64\n"
     ]
    }
   ],
   "source": [
    "#Mostrar resultados\n",
    "print(\"Medidas de tendencia central\")\n",
    "print(f\"Media- edad: {media_edad:0.3} Salario: {media_salario:0.3}\")\n",
    "print(\"Mediana - Edad:\", mediana_edad, \", Salario:\", mediana_salario)\n",
    "print(\"Moda - Edad:\", moda_edad, \", Salario:\", moda_salario)\n",
    "print()\n",
    "\n",
    "print(\"Medidas de Dispersión\")\n",
    "print(\"Rango - Edad:\", rango_edad, \", Salario:\", rango_salario)\n",
    "print(\"Varinza - Edad:\", varianza_edad, \", Salario:\", varianza_salario)\n",
    "print(\"Desviación Estándar - Edad:\", desviacion_edad, \", Salario:\", desviacion_salario)\n",
    "print()\n",
    "\n",
    "print(\"Medidas de Posición\")\n",
    "print(\"Percentiles - Edad: 25%\", percentil_25_edad, \"50%,\", percentil_50_edad, \"75%,\", percentil_75_edad)\n",
    "print(\"Percentiles - Salario: 25%\", percentil_25_salario, \"50%\", percentil_50_salario, \"75%\", percentil_75_salario)\n",
    "print()\n",
    "print(\"Cuartiles - Edad: Q1\", cuartil_1_edad, \"Q2\", cuartil_2_edad, \"Q3\", cuartil_3_edad)\n",
    "print(\"Cuartiles - Salario: Q1\", cuartil_1_salario, \"Q2\", cuartil_2_salario, \"Q3\", cuartil_3_salario)\n",
    "print(\"Deciles - Edad:\", deciles_edad)\n",
    "print(\"Deciles - Salario:\", deciles_salario)"
   ]
  }
 ],
 "metadata": {
  "kernelspec": {
   "display_name": ".venv",
   "language": "python",
   "name": "python3"
  },
  "language_info": {
   "codemirror_mode": {
    "name": "ipython",
    "version": 3
   },
   "file_extension": ".py",
   "mimetype": "text/x-python",
   "name": "python",
   "nbconvert_exporter": "python",
   "pygments_lexer": "ipython3",
   "version": "3.9.6"
  }
 },
 "nbformat": 4,
 "nbformat_minor": 2
}
